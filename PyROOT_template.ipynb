{
  "nbformat": 4,
  "nbformat_minor": 0,
  "metadata": {
    "colab": {
      "name": "requerimientos_taller.ipynb",
      "provenance": [],
      "collapsed_sections": [],
      "toc_visible": true
    },
    "kernelspec": {
      "display_name": "Python 3",
      "name": "python3"
    }
  },
  "cells": [
    {
      "cell_type": "markdown",
      "metadata": {
        "id": "I5L4Jey8IYYU"
      },
      "source": [
        "# Requerimientos\n",
        "\n",
        "Para realizar el siguiente ejercicio es importante cosiderar la instalación de las dependencias:\n",
        "\n",
        "*   Jupyter (link de instalación: https://jupyter.org/install)\n",
        "*   Python3.6\n",
        "*   Tensorflow (link de instalación:  https://www.tensorflow.org/install)\n",
        "*   sckit-learn\n",
        "*   numpy\n",
        "*   pandas\n",
        "*   ROOT con python3.6 (link de instalación: https://root.cern/install/)\n",
        "*   git \n",
        "*   dpkg-dev \n",
        "*   cmake \n",
        "*   g++ \n",
        "*   gcc \n",
        "*   binutils \n",
        "*   libx11-dev \n",
        "*   libxpm-dev \n",
        "*   libxft-dev \n",
        "*   libxext-dev \n",
        "*   tar \n",
        "*   gfortran \n",
        "*   subversion\n",
        "\n",
        "\n",
        "## Recomendaciones\n",
        "\n",
        "Se sugiere el uso colab para este ejercicio que ya cuenta con la mayoríía de las dependencias intaladas, sólo se debe agregar ROOT mediante PyROOT como se muestra a continuación:\n",
        "\n",
        "\n",
        "\n",
        "\n",
        "1.   Instalar  los paquetes con los que trabaja ROOT.\n",
        "\n",
        "\n",
        "\n",
        "\n",
        "\n"
      ]
    },
    {
      "cell_type": "code",
      "metadata": {
        "id": "nR2cnetLNWMO",
        "outputId": "933fe42e-b683-4689-9179-cba24dff37a2",
        "colab": {
          "base_uri": "https://localhost:8080/"
        }
      },
      "source": [
        "!apt-get install git dpkg-dev cmake g++ gcc binutils libx11-dev libxpm-dev libxft-dev libxext-dev tar gfortran subversion\n"
      ],
      "execution_count": null,
      "outputs": [
        {
          "output_type": "stream",
          "text": [
            "Reading package lists... Done\n",
            "Building dependency tree       \n",
            "Reading state information... Done\n",
            "libxext-dev is already the newest version (2:1.3.3-1).\n",
            "libxext-dev set to manually installed.\n",
            "libxft-dev is already the newest version (2.3.2-1).\n",
            "binutils is already the newest version (2.30-21ubuntu1~18.04.4).\n",
            "binutils set to manually installed.\n",
            "cmake is already the newest version (3.10.2-1ubuntu2.18.04.1).\n",
            "dpkg-dev is already the newest version (1.19.0.5ubuntu2.3).\n",
            "dpkg-dev set to manually installed.\n",
            "g++ is already the newest version (4:7.4.0-1ubuntu2.3).\n",
            "g++ set to manually installed.\n",
            "gcc is already the newest version (4:7.4.0-1ubuntu2.3).\n",
            "gcc set to manually installed.\n",
            "gfortran is already the newest version (4:7.4.0-1ubuntu2.3).\n",
            "git is already the newest version (1:2.17.1-1ubuntu0.7).\n",
            "libx11-dev is already the newest version (2:1.6.4-3ubuntu0.3).\n",
            "libx11-dev set to manually installed.\n",
            "tar is already the newest version (1.29b-2ubuntu0.1).\n",
            "The following additional packages will be installed:\n",
            "  libapr1 libaprutil1 libserf-1-1 libsvn1\n",
            "Suggested packages:\n",
            "  db5.3-util libapache2-mod-svn subversion-tools\n",
            "The following NEW packages will be installed:\n",
            "  libapr1 libaprutil1 libserf-1-1 libsvn1 libxpm-dev subversion\n",
            "0 upgraded, 6 newly installed, 0 to remove and 12 not upgraded.\n",
            "Need to get 2,324 kB of archives.\n",
            "After this operation, 10.1 MB of additional disk space will be used.\n",
            "Get:1 http://archive.ubuntu.com/ubuntu bionic/main amd64 libapr1 amd64 1.6.3-2 [90.9 kB]\n",
            "Get:2 http://archive.ubuntu.com/ubuntu bionic/main amd64 libaprutil1 amd64 1.6.1-2 [84.4 kB]\n",
            "Get:3 http://archive.ubuntu.com/ubuntu bionic/universe amd64 libserf-1-1 amd64 1.3.9-6 [44.4 kB]\n",
            "Get:4 http://archive.ubuntu.com/ubuntu bionic/universe amd64 libsvn1 amd64 1.9.7-4ubuntu1 [1,183 kB]\n",
            "Get:5 http://archive.ubuntu.com/ubuntu bionic/main amd64 libxpm-dev amd64 1:3.5.12-1 [87.4 kB]\n",
            "Get:6 http://archive.ubuntu.com/ubuntu bionic/universe amd64 subversion amd64 1.9.7-4ubuntu1 [834 kB]\n",
            "Fetched 2,324 kB in 3s (903 kB/s)\n",
            "Selecting previously unselected package libapr1:amd64.\n",
            "(Reading database ... 144786 files and directories currently installed.)\n",
            "Preparing to unpack .../0-libapr1_1.6.3-2_amd64.deb ...\n",
            "Unpacking libapr1:amd64 (1.6.3-2) ...\n",
            "Selecting previously unselected package libaprutil1:amd64.\n",
            "Preparing to unpack .../1-libaprutil1_1.6.1-2_amd64.deb ...\n",
            "Unpacking libaprutil1:amd64 (1.6.1-2) ...\n",
            "Selecting previously unselected package libserf-1-1:amd64.\n",
            "Preparing to unpack .../2-libserf-1-1_1.3.9-6_amd64.deb ...\n",
            "Unpacking libserf-1-1:amd64 (1.3.9-6) ...\n",
            "Selecting previously unselected package libsvn1:amd64.\n",
            "Preparing to unpack .../3-libsvn1_1.9.7-4ubuntu1_amd64.deb ...\n",
            "Unpacking libsvn1:amd64 (1.9.7-4ubuntu1) ...\n",
            "Selecting previously unselected package libxpm-dev:amd64.\n",
            "Preparing to unpack .../4-libxpm-dev_1%3a3.5.12-1_amd64.deb ...\n",
            "Unpacking libxpm-dev:amd64 (1:3.5.12-1) ...\n",
            "Selecting previously unselected package subversion.\n",
            "Preparing to unpack .../5-subversion_1.9.7-4ubuntu1_amd64.deb ...\n",
            "Unpacking subversion (1.9.7-4ubuntu1) ...\n",
            "Setting up libapr1:amd64 (1.6.3-2) ...\n",
            "Setting up libxpm-dev:amd64 (1:3.5.12-1) ...\n",
            "Setting up libaprutil1:amd64 (1.6.1-2) ...\n",
            "Setting up libserf-1-1:amd64 (1.3.9-6) ...\n",
            "Setting up libsvn1:amd64 (1.9.7-4ubuntu1) ...\n",
            "Setting up subversion (1.9.7-4ubuntu1) ...\n",
            "Processing triggers for libc-bin (2.27-3ubuntu1.2) ...\n",
            "/sbin/ldconfig.real: /usr/local/lib/python3.6/dist-packages/ideep4py/lib/libmkldnn.so.0 is not a symbolic link\n",
            "\n",
            "Processing triggers for man-db (2.8.3-2ubuntu0.1) ...\n"
          ],
          "name": "stdout"
        }
      ]
    },
    {
      "cell_type": "markdown",
      "metadata": {
        "id": "TMPqlGm1Nj6b"
      },
      "source": [
        "2.   Descargar el repositorio que tiene el binario de ROOT con Python3.6:\n"
      ]
    },
    {
      "cell_type": "code",
      "metadata": {
        "id": "y_eyxsk0NrRM",
        "outputId": "3c61a1ba-8202-4b29-ed59-5d394529ae9f",
        "colab": {
          "base_uri": "https://localhost:8080/"
        }
      },
      "source": [
        "!git clone https://github.com/MaldoAlberto/root_src.git"
      ],
      "execution_count": null,
      "outputs": [
        {
          "output_type": "stream",
          "text": [
            "Cloning into 'root_src'...\n",
            "remote: Enumerating objects: 3, done.\u001b[K\n",
            "remote: Counting objects: 100% (3/3), done.\u001b[K\n",
            "remote: Compressing objects: 100% (3/3), done.\u001b[K\n",
            "remote: Total 34708 (delta 0), reused 2 (delta 0), pack-reused 34705\u001b[K\n",
            "Receiving objects: 100% (34708/34708), 528.44 MiB | 19.23 MiB/s, done.\n",
            "Resolving deltas: 100% (8023/8023), done.\n",
            "Checking out files: 100% (38832/38832), done.\n"
          ],
          "name": "stdout"
        }
      ]
    },
    {
      "cell_type": "markdown",
      "metadata": {
        "id": "_aUXJLp6Nvz4"
      },
      "source": [
        "3.   Indicar los *path* del  bin.\n"
      ]
    },
    {
      "cell_type": "code",
      "metadata": {
        "id": "tXGbx9g3N0oX"
      },
      "source": [
        "import sys\n",
        "sys.path.append(\"/content/root_src/root_build/\")\n",
        "sys.path.append(\"/content/root_src/root_build/bin/\")\n",
        "sys.path.append(\"/content/root_src/root_build/include/\")\n",
        "sys.path.append(\"/content/root_src/root_build/lib\")"
      ],
      "execution_count": null,
      "outputs": []
    },
    {
      "cell_type": "markdown",
      "metadata": {
        "id": "n-jYFOkON_Ec"
      },
      "source": [
        "4.   Llamar el módulo de PyROOT en el colab y debe de imprimir la versióón de ROOT\n"
      ]
    },
    {
      "cell_type": "code",
      "metadata": {
        "id": "ITmY3budNuHz",
        "outputId": "2f478c7e-844f-4bb1-bbb1-dd2961e15ca6",
        "colab": {
          "base_uri": "https://localhost:8080/"
        }
      },
      "source": [
        "import ROOT"
      ],
      "execution_count": null,
      "outputs": [
        {
          "output_type": "stream",
          "text": [
            "Welcome to JupyROOT 6.22/03\n"
          ],
          "name": "stdout"
        }
      ]
    },
    {
      "cell_type": "markdown",
      "metadata": {
        "id": "lg3X01ClMnrp"
      },
      "source": [
        "\n",
        "En caso de usar colab es importante considerar que:\n",
        "\n",
        "*    En caso de no responder PyROOT debe ejecutar de nuevo los comandos anteriores.\n",
        "*    Después de 24 horas se formatea la computadora por lo que es necesario reinstalar PyROOT y cargar los archios externos que se usaron."
      ]
    }
  ]
}
